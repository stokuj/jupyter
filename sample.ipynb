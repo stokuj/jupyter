{
 "cells": [
  {
   "metadata": {},
   "cell_type": "markdown",
   "source": [
    "# This is a sample Jupyter Notebook\n",
    "\n",
    "Below is an example of a code cell. \n",
    "Put your cursor into the cell and press Shift+Enter to execute it and select the next one, or click 'Run Cell' button.\n",
    "\n",
    "Press Double Shift to search everywhere for classes, files, tool windows, actions, and settings.\n",
    "\n",
    "To learn more about Jupyter Notebooks in PyCharm, see [help](https://www.jetbrains.com/help/pycharm/ipython-notebook-support.html).\n",
    "For an overview of PyCharm, go to Help -> Learn IDE features or refer to [our documentation](https://www.jetbrains.com/help/pycharm/getting-started.html)."
   ],
   "id": "8a77807f92f26ee"
  },
  {
   "metadata": {
    "ExecuteTime": {
     "end_time": "2025-05-19T21:33:54.577944Z",
     "start_time": "2025-05-19T21:33:54.574630Z"
    }
   },
   "cell_type": "code",
   "source": "print(\"Hello World!\")\n",
   "id": "fbc121e30a2defb3",
   "outputs": [
    {
     "name": "stdout",
     "output_type": "stream",
     "text": [
      "Hello World!\n"
     ]
    }
   ],
   "execution_count": 2
  },
  {
   "metadata": {},
   "cell_type": "markdown",
   "source": "Task: Save (presumably DataFrame) to a file in the 'data/test' directory",
   "id": "b670ad5e778af9ba"
  },
  {
   "metadata": {
    "ExecuteTime": {
     "end_time": "2025-05-19T22:13:20.966990Z",
     "start_time": "2025-05-19T22:13:20.961134Z"
    }
   },
   "cell_type": "code",
   "source": [
    "import os\n",
    "import pandas as pd  # Ensure you are importing pandas\n",
    "\n",
    "# Create necessary directories, avoid errors if they already exist\n",
    "os.makedirs('data/test', exist_ok=True)\n",
    "\n",
    "# Define a DataFrame `df` with some sample data\n",
    "data = {\n",
    "    \"column1\": [1, 2, 3, 4],\n",
    "    \"column2\": [\"A\", \"B\", \"C\", \"D\"]\n",
    "}\n",
    "df = pd.DataFrame(data)\n",
    "\n",
    "# Save DataFrame to a Feather file\n",
    "df.to_feather('data/test/data.feather')\n"
   ],
   "id": "a7a9e256280c9f0e",
   "outputs": [],
   "execution_count": 4
  }
 ],
 "metadata": {
  "kernelspec": {
   "display_name": "Python 3",
   "language": "python",
   "name": "python3"
  },
  "language_info": {
   "codemirror_mode": {
    "name": "ipython",
    "version": 2
   },
   "file_extension": ".py",
   "mimetype": "text/x-python",
   "name": "python",
   "nbconvert_exporter": "python",
   "pygments_lexer": "ipython2",
   "version": "2.7.6"
  }
 },
 "nbformat": 4,
 "nbformat_minor": 5
}
